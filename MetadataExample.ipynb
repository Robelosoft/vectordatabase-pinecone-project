{
 "cells": [
  {
   "cell_type": "code",
   "execution_count": 1,
   "metadata": {},
   "outputs": [
    {
     "name": "stdout",
     "output_type": "stream",
     "text": [
      "Requirement already satisfied: pinecone-client in c:\\users\\alejandro_robelo\\source\\repos\\python\\first_picone\\venv\\lib\\site-packages (5.0.1)\n",
      "Requirement already satisfied: certifi>=2019.11.17 in c:\\users\\alejandro_robelo\\source\\repos\\python\\first_picone\\venv\\lib\\site-packages (from pinecone-client) (2024.8.30)\n",
      "Requirement already satisfied: pinecone-plugin-inference<2.0.0,>=1.0.3 in c:\\users\\alejandro_robelo\\source\\repos\\python\\first_picone\\venv\\lib\\site-packages (from pinecone-client) (1.1.0)\n",
      "Requirement already satisfied: pinecone-plugin-interface<0.0.8,>=0.0.7 in c:\\users\\alejandro_robelo\\source\\repos\\python\\first_picone\\venv\\lib\\site-packages (from pinecone-client) (0.0.7)\n",
      "Requirement already satisfied: tqdm>=4.64.1 in c:\\users\\alejandro_robelo\\source\\repos\\python\\first_picone\\venv\\lib\\site-packages (from pinecone-client) (4.67.1)\n",
      "Requirement already satisfied: typing-extensions>=3.7.4 in c:\\users\\alejandro_robelo\\source\\repos\\python\\first_picone\\venv\\lib\\site-packages (from pinecone-client) (4.12.2)\n",
      "Requirement already satisfied: urllib3>=1.26.0 in c:\\users\\alejandro_robelo\\source\\repos\\python\\first_picone\\venv\\lib\\site-packages (from pinecone-client) (2.2.3)\n",
      "Requirement already satisfied: colorama in c:\\users\\alejandro_robelo\\source\\repos\\python\\first_picone\\venv\\lib\\site-packages (from tqdm>=4.64.1->pinecone-client) (0.4.6)\n"
     ]
    },
    {
     "name": "stderr",
     "output_type": "stream",
     "text": [
      "\n",
      "[notice] A new release of pip is available: 25.0 -> 25.0.1\n",
      "[notice] To update, run: python.exe -m pip install --upgrade pip\n"
     ]
    }
   ],
   "source": [
    "!pip install pinecone-client"
   ]
  },
  {
   "cell_type": "code",
   "execution_count": 6,
   "metadata": {},
   "outputs": [],
   "source": [
    "import getpass\n",
    "import time\n",
    "import numpy as np\n",
    "import os\n",
    "from sentence_transformers import SentenceTransformer\n",
    "\n",
    "from pinecone import Pinecone, ServerlessSpec\n",
    "\n",
    "# Inicializar Pinecone\n",
    "if not os.getenv(\"PINECONE_API_KEY\"):\n",
    "    os.environ[\"PINECONE_API_KEY\"] = getpass.getpass(\"Enter your Pinecone API key: \")\n",
    "\n",
    "pinecone_api_key = os.environ.get(\"PINECONE_API_KEY\")"
   ]
  },
  {
   "cell_type": "code",
   "execution_count": 7,
   "metadata": {},
   "outputs": [],
   "source": [
    "pc = Pinecone(api_key=pinecone_api_key)\n",
    "\n",
    "index_name = \"index-with-metadata\"  # change if desired\n",
    "\n",
    "existing_indexes = [index_info[\"name\"] for index_info in pc.list_indexes()]\n",
    "\n",
    "if index_name not in existing_indexes:\n",
    "    pc.create_index(\n",
    "        name=index_name,\n",
    "        dimension=384,\n",
    "        metric=\"cosine\",\n",
    "        spec=ServerlessSpec(cloud=\"aws\", region=\"us-east-1\"),\n",
    "    )\n",
    "    while not pc.describe_index(index_name).status[\"ready\"]:\n",
    "        time.sleep(1)\n",
    "\n",
    "index = pc.Index(index_name)"
   ]
  },
  {
   "cell_type": "code",
   "execution_count": 8,
   "metadata": {},
   "outputs": [
    {
     "name": "stdout",
     "output_type": "stream",
     "text": [
      "Vectors inserted successfully.\n"
     ]
    }
   ],
   "source": [
    "# ===== 3. Insert Vectors with Metadata =====\n",
    "books = [\n",
    "    {\n",
    "        \"id\": \"book1\",\n",
    "        \"vector\": np.random.rand(384).tolist(),  # Replace with real embeddings\n",
    "        \"metadata\": {\n",
    "            \"title\": \"One Hundred Years of Solitude\",\n",
    "            \"author\": \"Gabriel García Márquez\",\n",
    "            \"genre\": \"magical realism\",\n",
    "            \"year\": 1967\n",
    "        }\n",
    "    },\n",
    "    {\n",
    "        \"id\": \"book2\",\n",
    "        \"vector\": np.random.rand(384).tolist(),\n",
    "        \"metadata\": {\n",
    "            \"title\": \"Ficciones\",\n",
    "            \"author\": \"Jorge Luis Borges\",\n",
    "            \"genre\": \"philosophical short stories\",\n",
    "            \"year\": 1944\n",
    "        }\n",
    "    }\n",
    "]\n",
    "\n",
    "# Upsert vectors into the index\n",
    "index.upsert(\n",
    "    vectors=[\n",
    "        (book[\"id\"], book[\"vector\"], book[\"metadata\"]) \n",
    "        for book in books\n",
    "    ]\n",
    ")\n",
    "print(\"Vectors inserted successfully.\")"
   ]
  },
  {
   "cell_type": "code",
   "execution_count": 9,
   "metadata": {},
   "outputs": [
    {
     "name": "stdout",
     "output_type": "stream",
     "text": [
      "\n",
      "=== Top 2 Most Similar Books ===\n",
      "• One Hundred Years of Solitude by Gabriel García Márquez\n",
      "  Genre: magical realism\n",
      "  Similarity Score: 0.710\n",
      "\n",
      "• Ficciones by Jorge Luis Borges\n",
      "  Genre: philosophical short stories\n",
      "  Similarity Score: 0.699\n",
      "\n"
     ]
    }
   ],
   "source": [
    "# ===== 4. Query Examples =====\n",
    "# Generate a random query vector (replace with real embeddings)\n",
    "query_vector = np.random.rand(384).tolist()\n",
    "\n",
    "# ---- 4.1 Basic Semantic Search ----\n",
    "basic_results = index.query(\n",
    "    vector=query_vector,\n",
    "    top_k=2,\n",
    "    include_metadata=True\n",
    ")\n",
    "\n",
    "print(\"\\n=== Top 2 Most Similar Books ===\")\n",
    "for match in basic_results[\"matches\"]:\n",
    "    print(f\"• {match['metadata']['title']} by {match['metadata']['author']}\")\n",
    "    print(f\"  Genre: {match['metadata']['genre']}\")\n",
    "    print(f\"  Similarity Score: {match['score']:.3f}\\n\")"
   ]
  },
  {
   "cell_type": "code",
   "execution_count": 10,
   "metadata": {},
   "outputs": [
    {
     "name": "stdout",
     "output_type": "stream",
     "text": [
      "\n",
      "=== Filtered Results (Magical Realism, 1900+) ===\n",
      "• One Hundred Years of Solitude (1967.0)\n"
     ]
    }
   ],
   "source": [
    "# ---- 4.2 Filtered Search ----\n",
    "filtered_results = index.query(\n",
    "    vector=query_vector,\n",
    "    top_k=2,\n",
    "    filter={\n",
    "        \"genre\": {\"$eq\": \"magical realism\"},\n",
    "        \"year\": {\"$gte\": 1900}\n",
    "    },\n",
    "    include_metadata=True\n",
    ")\n",
    "\n",
    "print(\"\\n=== Filtered Results (Magical Realism, 1900+) ===\")\n",
    "for match in filtered_results[\"matches\"]:\n",
    "    print(f\"• {match['metadata']['title']} ({match['metadata']['year']})\")"
   ]
  }
 ],
 "metadata": {
  "kernelspec": {
   "display_name": "venv",
   "language": "python",
   "name": "python3"
  },
  "language_info": {
   "codemirror_mode": {
    "name": "ipython",
    "version": 3
   },
   "file_extension": ".py",
   "mimetype": "text/x-python",
   "name": "python",
   "nbconvert_exporter": "python",
   "pygments_lexer": "ipython3",
   "version": "3.11.4"
  }
 },
 "nbformat": 4,
 "nbformat_minor": 2
}
